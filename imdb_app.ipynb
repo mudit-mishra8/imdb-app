{
 "cells": [
  {
   "cell_type": "code",
   "execution_count": 6,
   "metadata": {},
   "outputs": [
    {
     "data": {
      "application/vnd.jupyter.widget-view+json": {
       "model_id": "2730b9dbf241431888dbbc717fa15683",
       "version_major": 2,
       "version_minor": 0
      },
      "text/plain": [
       "Textarea(value='', description='Review:', placeholder='Enter movie review here...')"
      ]
     },
     "metadata": {},
     "output_type": "display_data"
    },
    {
     "data": {
      "application/vnd.jupyter.widget-view+json": {
       "model_id": "5a8240cc7d434dfeb38a1ea8e3dd3e46",
       "version_major": 2,
       "version_minor": 0
      },
      "text/plain": [
       "Button(description='Analyze Sentiment', style=ButtonStyle())"
      ]
     },
     "metadata": {},
     "output_type": "display_data"
    },
    {
     "data": {
      "application/vnd.jupyter.widget-view+json": {
       "model_id": "b1006c3a86a44a0c96adc0478729122e",
       "version_major": 2,
       "version_minor": 0
      },
      "text/plain": [
       "Output()"
      ]
     },
     "metadata": {},
     "output_type": "display_data"
    }
   ],
   "source": [
    "# importing libraries\n",
    "\n",
    "import pandas as pd\n",
    "import numpy as np\n",
    "import ipywidgets as widgets\n",
    "from IPython.display import display\n",
    "from tqdm import tqdm\n",
    "\n",
    "pd.set_option(\"display.max_rows\",None)\n",
    "pd.set_option(\"display.max_columns\",None)\n",
    "pd.set_option('display.max_colwidth',None)\n",
    "\n",
    "\n",
    "from sklearn.metrics import precision_score #precision\n",
    "from sklearn.metrics import recall_score  #recall\n",
    "from sklearn.metrics import auc  #area under curve\n",
    "from sklearn.metrics import roc_auc_score  \n",
    "from sklearn.metrics import log_loss  #log loss\n",
    "from sklearn.metrics import f1_score  #f1 score\n",
    "from sklearn.metrics import roc_curve #plot roc curve\n",
    "from sklearn import feature_extraction, model_selection, naive_bayes, pipeline, manifold, preprocessing\n",
    "\n",
    "import warnings\n",
    "warnings.filterwarnings('ignore')\n",
    "\n",
    "from keras.preprocessing.text import Tokenizer\n",
    "from keras.preprocessing.sequence import pad_sequences\n",
    "\n",
    "from keras.preprocessing.text import tokenizer_from_json\n",
    "import json\n",
    "from gensim.models import Word2Vec\n",
    "from keras.models import load_model\n",
    "\n",
    "# Load the model\n",
    "LSTM_model = load_model('my_model.h9')\n",
    "model = Word2Vec.load(\"word2vec.model\")\n",
    "\n",
    "# Function to predict sentiment\n",
    "def tell_sentiment(rev):\n",
    "    reviews = []\n",
    "    reviews.append(rev.lower())\n",
    "    # Loading the tokenizer from a json file\n",
    "    with open('tokenizer.json') as f:\n",
    "        data = json.load(f)\n",
    "        tokenizer = tokenizer_from_json(data)\n",
    "    sequences_validate = tokenizer.texts_to_sequences(reviews)\n",
    "    # Define a function to replace words with vectors\n",
    "    def replace_with_vectors(data):\n",
    "        vectorized_data = []\n",
    "        for review in tqdm(data):\n",
    "            vectorized_review = []\n",
    "            for word_index in review:\n",
    "                if word_index in tokenizer.index_word:\n",
    "                    word = tokenizer.index_word[word_index]\n",
    "                    if word in model.wv:\n",
    "                        vectorized_review.append(model.wv[word])\n",
    "                    else:\n",
    "                        vectorized_review.append(np.zeros(model.wv.vector_size))  # Default to zero vector if the word is not in the Word2Vec model\n",
    "                else:\n",
    "                    vectorized_review.append(np.zeros(model.wv.vector_size))  # Default to zero vector if the word index is not in the tokenizer\n",
    "            vectorized_data.append(vectorized_review)\n",
    "        return vectorized_data\n",
    "\n",
    "    X_test_vectorized = replace_with_vectors(sequences_validate)\n",
    "\n",
    "    # Pad sequences after vectorization\n",
    "    max_length=200\n",
    "\n",
    "    X_validate_padded = pad_sequences(X_test_vectorized, dtype='float32', padding='post', maxlen=max_length)\n",
    "    predictions = LSTM_model.predict(X_validate_padded)\n",
    "    if predictions[0][0] >=0.5:\n",
    "        return \"Positive Review\"\n",
    "    else:\n",
    "        return \"Negative Review\"\n",
    "        \n",
    "    \n",
    "\n",
    "# Input text widget for movie review\n",
    "review_input = widgets.Textarea(\n",
    "    placeholder='Enter movie review here...',\n",
    "    description='Review:',\n",
    "    disabled=False\n",
    ")\n",
    "\n",
    "# Button to perform sentiment analysis\n",
    "button = widgets.Button(description=\"Analyze Sentiment\")\n",
    "\n",
    "# Output widget to display the sentiment\n",
    "output = widgets.Output()\n",
    "\n",
    "# Define the function to be called when button is clicked\n",
    "def on_button_click(b):\n",
    "    with output:\n",
    "        review_text = review_input.value\n",
    "        sentiment = tell_sentiment(review_text)\n",
    "        print(f'Sentiment: {sentiment}')\n",
    "\n",
    "# Link button click to the function\n",
    "button.on_click(on_button_click)\n",
    "\n",
    "# Display the widgets\n",
    "display(review_input, button, output)\n"
   ]
  },
  {
   "cell_type": "code",
   "execution_count": null,
   "metadata": {},
   "outputs": [],
   "source": []
  }
 ],
 "metadata": {
  "kernelspec": {
   "display_name": "Python 3",
   "language": "python",
   "name": "python3"
  },
  "language_info": {
   "codemirror_mode": {
    "name": "ipython",
    "version": 3
   },
   "file_extension": ".py",
   "mimetype": "text/x-python",
   "name": "python",
   "nbconvert_exporter": "python",
   "pygments_lexer": "ipython3",
   "version": "3.8.5"
  }
 },
 "nbformat": 4,
 "nbformat_minor": 4
}
